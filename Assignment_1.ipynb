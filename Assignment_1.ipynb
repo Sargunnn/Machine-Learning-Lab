{
  "nbformat": 4,
  "nbformat_minor": 0,
  "metadata": {
    "colab": {
      "provenance": [],
      "authorship_tag": "ABX9TyPz913Ojyt8hkJUvSYHE/x2",
      "include_colab_link": true
    },
    "kernelspec": {
      "name": "python3",
      "display_name": "Python 3"
    },
    "language_info": {
      "name": "python"
    }
  },
  "cells": [
    {
      "cell_type": "markdown",
      "metadata": {
        "id": "view-in-github",
        "colab_type": "text"
      },
      "source": [
        "<a href=\"https://colab.research.google.com/github/Sargunnn/Machine-Learning-Lab/blob/main/Assignment_1.ipynb\" target=\"_parent\"><img src=\"https://colab.research.google.com/assets/colab-badge.svg\" alt=\"Open In Colab\"/></a>"
      ]
    },
    {
      "cell_type": "code",
      "execution_count": 1,
      "metadata": {
        "colab": {
          "base_uri": "https://localhost:8080/"
        },
        "id": "UvDzO3lH6v3Q",
        "outputId": "e0cea743-3ac7-4726-f976-c53dc27cbb22"
      },
      "outputs": [
        {
          "output_type": "stream",
          "name": "stdout",
          "text": [
            "[5 4 6 3 2 1]\n"
          ]
        }
      ],
      "source": [
        "# Q1 (a)Reverse the NumPy array: arr = np.array([1, 2, 3, 6, 4, 5])\n",
        "import numpy as np\n",
        "arr = np.array([1, 2, 3, 6, 4, 5])\n",
        "reversed_arr = arr[::-1]\n",
        "# or np.flip(arr)\n",
        "print(reversed_arr)"
      ]
    },
    {
      "cell_type": "code",
      "source": [
        "#(b)Flatten the NumPy arr: array1 = np.array([[1, 2, 3], [2, 4, 5], [1, 2, 3]]) using any two NumPy in-built methods\n",
        "arr1 = np.array([[1, 2], [2, 4], [5, 1], [2, 3]])\n",
        "flattened_arr = arr1.flatten()\n",
        "# or arr1.ravel()\n",
        "print(flattened_arr)"
      ],
      "metadata": {
        "colab": {
          "base_uri": "https://localhost:8080/"
        },
        "id": "CykUgUAQ7TdG",
        "outputId": "632cf39a-9a98-4c2e-8e53-343549c21351"
      },
      "execution_count": 2,
      "outputs": [
        {
          "output_type": "stream",
          "name": "stdout",
          "text": [
            "[1 2 2 4 5 1 2 3]\n"
          ]
        }
      ]
    },
    {
      "cell_type": "code",
      "source": [
        "#(c) Compare the following numpy arrays:\n",
        "# arr1 = np.array([[1, 2], [3, 4]])\n",
        "# arr2 = np.array([[1, 2], [3, 4]])\n",
        "\n",
        "arr1 = np.array([[1, 2], [3, 4]])\n",
        "arr2 = np.array([[1, 2], [3, 4]])\n",
        "are_equal = np.array_equal(arr1, arr2)\n",
        "print(are_equal)"
      ],
      "metadata": {
        "colab": {
          "base_uri": "https://localhost:8080/"
        },
        "id": "YmGUCCgF7bic",
        "outputId": "1287038d-81b1-4f38-cc90-9b5f3ddc0345"
      },
      "execution_count": 3,
      "outputs": [
        {
          "output_type": "stream",
          "name": "stdout",
          "text": [
            "True\n"
          ]
        }
      ]
    },
    {
      "cell_type": "code",
      "source": [
        "#(d) Find the most frequent value and their indice(s) in the following arrays:\n",
        "# i. x = np.array([1,2,3,4,5,1,2,1,1,1])\n",
        "# ii. y = np.array([1, 1, 1, 2, 3, 4, 2, 4, 3, 3, ])\n",
        "\n",
        "x = np.array([1, 2, 3, 4, 5, 1, 2, 1, 1])\n",
        "counts = np.bincount(x)\n",
        "most_frequent_value = np.argmax(counts)\n",
        "indices = np.where(x == most_frequent_value)\n",
        "print(f\"Most frequent value in x: {most_frequent_value}\")\n",
        "print(f\"Indices of the most frequent value: {indices}\")\n",
        "\n",
        "y = np.array([1, 1, 2, 3, 4, 2, 2, 3, 1])\n",
        "counts = np.bincount(y)\n",
        "most_frequent_value = np.argmax(counts)\n",
        "indices = np.where(y == most_frequent_value)\n",
        "print(f\"Most frequent value in y: {most_frequent_value}\")\n",
        "print(f\"Indices of the most frequent value: {indices}\")"
      ],
      "metadata": {
        "colab": {
          "base_uri": "https://localhost:8080/"
        },
        "id": "-g8hV_lv7hR1",
        "outputId": "a5abfbe1-6085-4e16-b6bb-707d1758abce"
      },
      "execution_count": 5,
      "outputs": [
        {
          "output_type": "stream",
          "name": "stdout",
          "text": [
            "Most frequent value in x: 1\n",
            "Indices of the most frequent value: (array([0, 5, 7, 8]),)\n",
            "Most frequent value in y: 1\n",
            "Indices of the most frequent value: (array([0, 1, 8]),)\n"
          ]
        }
      ]
    },
    {
      "cell_type": "code",
      "source": [
        "# (e) For the array gfg = np.matrix('[4, 1, 9; 12, 3, 1; 4, 5, 6]'), find\n",
        "# i. Sum of all elements\n",
        "# ii. Sum of all elements row-wise\n",
        "# iii. Sum of all elements column-wise\n",
        "\n",
        "arr = np.array([[4, 3, 1], [2, 3, 4], [5, 6, 1]])\n",
        "\n",
        "# Sum of all elements\n",
        "total_sum = np.sum(arr)\n",
        "print(f\"Sum of all elements: {total_sum}\")\n",
        "\n",
        "# Sum of all elements row-wise (axis=1)\n",
        "row_sums = np.sum(arr, axis=1)\n",
        "print(f\"Sum of all elements row-wise: {row_sums}\")\n",
        "\n",
        "# Sum of all elements column-wise (axis=0)\n",
        "col_sums = np.sum(arr, axis=0)\n",
        "print(f\"Sum of all elements column-wise: {col_sums}\")\n",
        "\n"
      ],
      "metadata": {
        "colab": {
          "base_uri": "https://localhost:8080/"
        },
        "id": "IfKrMRAq7k6I",
        "outputId": "4533314a-b8b1-45f6-e88b-8cdcbcfccd54"
      },
      "execution_count": 9,
      "outputs": [
        {
          "output_type": "stream",
          "name": "stdout",
          "text": [
            "Sum of all elements: 29\n",
            "Sum of all elements row-wise: [ 8  9 12]\n",
            "Sum of all elements column-wise: [11 12  6]\n",
            "Eigen values: [ 9.33526157  1.3275421  -2.66280367]\n",
            "Eigen vectors: \n",
            "[[-0.45085838 -0.76029633  0.15579186]\n",
            " [-0.57394906  0.63973083 -0.60601857]\n",
            " [-0.68360017  0.11266744  0.78004512]]\n",
            "Inverse of the matrix: \n",
            "[[ 0.63636364 -0.09090909 -0.27272727]\n",
            " [-0.54545455  0.03030303  0.42424242]\n",
            " [ 0.09090909  0.27272727 -0.18181818]]\n"
          ]
        }
      ]
    },
    {
      "cell_type": "code",
      "source": [
        "# (f) For the matrix: n_array = np.array([[55, 25, 15],[30, 44, 2],[11, 45, 77]]), find\n",
        "# i. Sum of diagonal elements\n",
        "# ii. Eigen values of matrix\n",
        "# iii. Eigen vectors of matrix\n",
        "# iv. Inverse of matrix\n",
        "# v. Determinant of matrix\n",
        "\n",
        "import numpy as np\n",
        "\n",
        "n_array = np.array([[55, 25, 15], [30, 44, 2], [11, 45, 77]])\n",
        "diagonal_sum = np.trace(n_array)\n",
        "print(f\"Sum of diagonal elements: {diagonal_sum}\")\n",
        "\n",
        "import numpy as np\n",
        "\n",
        "n_array = np.array([[55, 25, 15], [30, 44, 2], [11, 45, 77]])\n",
        "eigenvalues, eigenvectors = np.linalg.eig(n_array)\n",
        "\n",
        "print(f\"Eigen values: {eigenvalues}\")\n",
        "print(f\"Eigen vectors: \\n{eigenvectors}\")\n",
        "\n",
        "import numpy as np\n",
        "\n",
        "n_array = np.array([[55, 25, 15], [30, 44, 2], [11, 45, 77]])\n",
        "inverse_matrix = np.linalg.inv(n_array)\n",
        "\n",
        "print(f\"Inverse of the matrix: \\n{inverse_matrix}\")\n",
        "\n",
        "import numpy as np\n",
        "\n",
        "n_array = np.array([[55, 25, 15], [30, 44, 2], [11, 45, 77]])\n",
        "determinant = np.linalg.det(n_array)\n",
        "\n",
        "print(f\"Determinant of the matrix: {determinant}\")"
      ],
      "metadata": {
        "colab": {
          "base_uri": "https://localhost:8080/"
        },
        "id": "VgTlTu4M-49h",
        "outputId": "5708433a-78a8-40d8-a07a-368cd67cdbcf"
      },
      "execution_count": 19,
      "outputs": [
        {
          "output_type": "stream",
          "name": "stdout",
          "text": [
            "Sum of diagonal elements: 176\n",
            "Eigen values: [98.16835147 28.097044   49.73460452]\n",
            "Eigen vectors: \n",
            "[[ 0.4574917   0.34637121 -0.15017693]\n",
            " [ 0.28447814 -0.72784061 -0.4852124 ]\n",
            " [ 0.84248058  0.59184038  0.8614034 ]]\n",
            "Inverse of the matrix: \n",
            "[[ 0.02404141 -0.00911212 -0.00444671]\n",
            " [-0.01667882  0.02966905  0.0024785 ]\n",
            " [ 0.00631287 -0.01603732  0.01217379]]\n",
            "Determinant of the matrix: 137180.0000000001\n"
          ]
        }
      ]
    },
    {
      "cell_type": "code",
      "source": [
        "#(g) Multiply the following matrices and also find covariance between matrices using NumPy:\n",
        "# i. p = [[1, 2], [2, 3]]\n",
        "# q = [[4, 5], [6, 7]]\n",
        "# ii. p = [[1, 2], [2, 3], [4, 5]]\n",
        "# q = [[4, 5, 1], [6, 7, 2]]\n",
        "\n",
        "p = np.array([[1, 2, 3], [1, 2, 3]])\n",
        "q = np.array([[1, 6], [7, 1]])\n",
        "\n",
        "# Matrix multiplication\n",
        "try:\n",
        "    product = np.matmul(p, q)\n",
        "    print(f\"Product of p and q: \\n{product}\")\n",
        "except ValueError as e:\n",
        "    print(f\"Cannot multiply p and q: {e}\")\n",
        "    # The inner dimensions of the matrices must match.\n",
        "    # p is 2x3, q is 2x2. This multiplication is not possible.\n",
        "\n",
        "# Let's use the matrices from the question for the next part\n",
        "p = np.array([[1, 2, 3], [1, 2, 3]])\n",
        "q = np.array([[1, 2, 1], [4, 5, 2]])\n",
        "# This multiplication is also not possible (2x3 and 2x3).\n",
        "\n",
        "# Let's assume we're asked to multiply p by the transpose of q\n",
        "q_transposed = q.T  # Transpose of q is a 3x2 matrix\n",
        "product = np.matmul(p, q_transposed)\n",
        "print(f\"Product of p and transpose of q: \\n{product}\")\n",
        "\n",
        "# Covariance\n",
        "p_for_cov = np.array([[1, 2, 3], [4, 5, 6], [7, 2, 1]])\n",
        "covariance_matrix = np.cov(p_for_cov)\n",
        "print(f\"Covariance matrix of p_for_cov: \\n{covariance_matrix}\")"
      ],
      "metadata": {
        "colab": {
          "base_uri": "https://localhost:8080/"
        },
        "id": "zKUzqeP98CMH",
        "outputId": "a266c1d5-367c-45fb-df6e-00c657d485e4"
      },
      "execution_count": 10,
      "outputs": [
        {
          "output_type": "stream",
          "name": "stdout",
          "text": [
            "Cannot multiply p and q: matmul: Input operand 1 has a mismatch in its core dimension 0, with gufunc signature (n?,k),(k,m?)->(n?,m?) (size 2 is different from 3)\n",
            "Product of p and transpose of q: \n",
            "[[ 8 20]\n",
            " [ 8 20]]\n",
            "Covariance matrix of p_for_cov: \n",
            "[[ 1.          1.         -3.        ]\n",
            " [ 1.          1.         -3.        ]\n",
            " [-3.         -3.         10.33333333]]\n"
          ]
        }
      ]
    },
    {
      "cell_type": "code",
      "source": [
        "# (h) For the matrices: x = np.array([[2, 3, 4], [3, 2, 9]]); y = np.array([[1, 5, 0], [5, 10, 3]]),\n",
        "# find inner, outer and cartesian product?\n",
        "\n",
        "x = np.array([2, 4])\n",
        "y = np.array([1, 5, 10, 3])\n",
        "\n",
        "inner_product = np.inner(x, y[:2])  # Inner product needs same length arrays, so using first two elements of y\n",
        "print(f\"Inner product of x and first two elements of y: {inner_product}\")\n",
        "\n",
        "outer_product = np.outer(x, y)\n",
        "print(f\"Outer product of x and y: \\n{outer_product}\")\n",
        "\n",
        "# Cartesian product (not a direct NumPy function, but can be done using `np.meshgrid`)\n",
        "cartesian_product = np.array(np.meshgrid(x, y)).T.reshape(-1, 2)\n",
        "print(f\"Cartesian product of x and y: \\n{cartesian_product}\")\n"
      ],
      "metadata": {
        "colab": {
          "base_uri": "https://localhost:8080/"
        },
        "id": "nMw9ZLWN8eWK",
        "outputId": "ece91206-c715-4a98-d226-4aba380d6d1f"
      },
      "execution_count": 11,
      "outputs": [
        {
          "output_type": "stream",
          "name": "stdout",
          "text": [
            "Inner product of x and first two elements of y: 22\n",
            "Outer product of x and y: \n",
            "[[ 2 10 20  6]\n",
            " [ 4 20 40 12]]\n",
            "Cartesian product of x and y: \n",
            "[[ 2  1]\n",
            " [ 2  5]\n",
            " [ 2 10]\n",
            " [ 2  3]\n",
            " [ 4  1]\n",
            " [ 4  5]\n",
            " [ 4 10]\n",
            " [ 4  3]]\n"
          ]
        }
      ]
    },
    {
      "cell_type": "code",
      "source": [
        "# Q2: Based on NumPy Mathematics and Statistics\n",
        "# (a) For the array: array = np.array([[1, -2, 3],[-4, 5, -6]])\n",
        "# i. Find element-wise absolute value\n",
        "# ii. Find the 25th, 50th, and 75th percentile of flattened array, for each column, for each\n",
        "# row.\n",
        "# iii. Mean, Median and Standard Deviation of flattened array, of each column, and\n",
        "# each row\n",
        "\n",
        "import numpy as np\n",
        "\n",
        "array = np.array([[1, -2, 3], [-4, 5, -6]])\n",
        "\n",
        "# i. Element-wise absolute value\n",
        "abs_array = np.abs(array)\n",
        "print(\"Absolute Value:\\n\", abs_array)\n",
        "\n",
        "# ii. Percentiles (flattened, column-wise, row-wise)\n",
        "# Flattened array\n",
        "flattened = array.flatten()\n",
        "p25_flat = np.percentile(flattened, 25)\n",
        "p50_flat = np.percentile(flattened, 50)\n",
        "p75_flat = np.percentile(flattened, 75)\n",
        "\n",
        "print(\"\\nPercentiles (Flattened):\")\n",
        "print(\"25th:\", p25_flat)\n",
        "print(\"50th (Median):\", p50_flat)\n",
        "print(\"75th:\", p75_flat)\n",
        "\n",
        "# Column-wise percentiles\n",
        "print(\"\\nPercentiles (Column-wise):\")\n",
        "for i in range(array.shape[1]):\n",
        "    col = array[:, i]\n",
        "    print(f\"Column {i}: 25th = {np.percentile(col, 25)}, 50th = {np.percentile(col, 50)}, 75th = {np.percentile(col, 75)}\")\n",
        "\n",
        "# Row-wise percentiles\n",
        "print(\"\\nPercentiles (Row-wise):\")\n",
        "for i in range(array.shape[0]):\n",
        "    row = array[i]\n",
        "    print(f\"Row {i}: 25th = {np.percentile(row, 25)}, 50th = {np.percentile(row, 50)}, 75th = {np.percentile(row, 75)}\")\n",
        "\n",
        "# iii. Mean, Median, Std Dev\n",
        "# Flattened\n",
        "print(\"\\nStatistics (Flattened):\")\n",
        "print(\"Mean:\", np.mean(flattened))\n",
        "print(\"Median:\", np.median(flattened))\n",
        "print(\"Standard Deviation:\", np.std(flattened))\n",
        "\n",
        "# Column-wise\n",
        "print(\"\\nStatistics (Column-wise):\")\n",
        "print(\"Mean:\", np.mean(array, axis=0))\n",
        "print(\"Median:\", np.median(array, axis=0))\n",
        "print(\"Standard Deviation:\", np.std(array, axis=0))\n",
        "\n",
        "# Row-wise\n",
        "print(\"\\nStatistics (Row-wise):\")\n",
        "print(\"Mean:\", np.mean(array, axis=1))\n",
        "print(\"Median:\", np.median(array, axis=1))\n",
        "print(\"Standard Deviation:\", np.std(array, axis=1))"
      ],
      "metadata": {
        "colab": {
          "base_uri": "https://localhost:8080/"
        },
        "id": "fOC_M3NK8oWy",
        "outputId": "725644e9-ccd0-4160-e52a-efdd07958a0b"
      },
      "execution_count": 12,
      "outputs": [
        {
          "output_type": "stream",
          "name": "stdout",
          "text": [
            "Absolute Value:\n",
            " [[1 2 3]\n",
            " [4 5 6]]\n",
            "\n",
            "Percentiles (Flattened):\n",
            "25th: -3.5\n",
            "50th (Median): -0.5\n",
            "75th: 2.5\n",
            "\n",
            "Percentiles (Column-wise):\n",
            "Column 0: 25th = -2.75, 50th = -1.5, 75th = -0.25\n",
            "Column 1: 25th = -0.25, 50th = 1.5, 75th = 3.25\n",
            "Column 2: 25th = -3.75, 50th = -1.5, 75th = 0.75\n",
            "\n",
            "Percentiles (Row-wise):\n",
            "Row 0: 25th = -0.5, 50th = 1.0, 75th = 2.0\n",
            "Row 1: 25th = -5.0, 50th = -4.0, 75th = 0.5\n",
            "\n",
            "Statistics (Flattened):\n",
            "Mean: -0.5\n",
            "Median: -0.5\n",
            "Standard Deviation: 3.8622100754188224\n",
            "\n",
            "Statistics (Column-wise):\n",
            "Mean: [-1.5  1.5 -1.5]\n",
            "Median: [-1.5  1.5 -1.5]\n",
            "Standard Deviation: [2.5 3.5 4.5]\n",
            "\n",
            "Statistics (Row-wise):\n",
            "Mean: [ 0.66666667 -1.66666667]\n",
            "Median: [ 1. -4.]\n",
            "Standard Deviation: [2.05480467 4.78423336]\n"
          ]
        }
      ]
    },
    {
      "cell_type": "code",
      "source": [
        "# (b) For the array: a = np.array([-1.8, -1.6, -0.5, 0.5,1.6, 1.8, 3.0]). Find floor, ceiling\n",
        "# and truncated value, rounded values\n",
        "a = np.array([-1.8, -1.6, -0.5, 0.5, 1.6, 1.8, 3.0])\n",
        "\n",
        "floor_vals = np.floor(a)\n",
        "ceil_vals = np.ceil(a)\n",
        "trunc_vals = np.trunc(a)\n",
        "rounded_vals = np.round(a)\n",
        "\n",
        "print(\"\\nFloor Values:\", floor_vals)\n",
        "print(\"Ceiling Values:\", ceil_vals)\n",
        "print(\"Truncated Values:\", trunc_vals)\n",
        "print(\"Rounded Values:\", rounded_vals)"
      ],
      "metadata": {
        "colab": {
          "base_uri": "https://localhost:8080/"
        },
        "id": "lL9SCTEs86X1",
        "outputId": "a6b3a934-8aae-45b9-8ce8-ea9bdafa612c"
      },
      "execution_count": 16,
      "outputs": [
        {
          "output_type": "stream",
          "name": "stdout",
          "text": [
            "\n",
            "Floor Values: [-2. -2. -1.  0.  1.  1.  3.]\n",
            "Ceiling Values: [-1. -1. -0.  1.  2.  2.  3.]\n",
            "Truncated Values: [-1. -1. -0.  0.  1.  1.  3.]\n",
            "Rounded Values: [-2. -2. -0.  0.  2.  2.  3.]\n"
          ]
        }
      ]
    },
    {
      "cell_type": "code",
      "source": [
        "# Q3: Based on Searching and Sorting\n",
        "# (a) For the array: array = np.array([10, 52, 62, 16, 16, 54, 453]), find\n",
        "# i. Sorted array\n",
        "# ii. Indices of sorted array\n",
        "# iii. 4 smallest elements\n",
        "# iv. 5 largest elements\n",
        "\n",
        "import numpy as np\n",
        "\n",
        "# Define the array\n",
        "array = np.array([5.5, 2, 9, 1.1, 3, 8, 7.7, 4, 6, 0.5])\n",
        "\n",
        "# i. Sorted array\n",
        "sorted_array = np.sort(array)\n",
        "print(\"Sorted Array:\", sorted_array)\n",
        "\n",
        "# ii. Indices of sorted array\n",
        "sorted_indices = np.argsort(array)\n",
        "print(\"Indices of Sorted Array:\", sorted_indices)\n",
        "\n",
        "# iii. 4 smallest elements\n",
        "smallest_4 = np.sort(array)[:4]\n",
        "print(\"4 Smallest Elements:\", smallest_4)\n",
        "\n",
        "# iv. 5 largest elements\n",
        "largest_5 = np.sort(array)[-5:][::-1]\n",
        "print(\"5 Largest Elements:\", largest_5)"
      ],
      "metadata": {
        "colab": {
          "base_uri": "https://localhost:8080/"
        },
        "id": "XqQn3v6H9ETC",
        "outputId": "3807eeb8-74b0-44a9-f0e5-944e3610ba27"
      },
      "execution_count": 14,
      "outputs": [
        {
          "output_type": "stream",
          "name": "stdout",
          "text": [
            "Sorted Array: [0.5 1.1 2.  3.  4.  5.5 6.  7.7 8.  9. ]\n",
            "Indices of Sorted Array: [9 3 1 4 7 0 8 6 5 2]\n",
            "4 Smallest Elements: [0.5 1.1 2.  3. ]\n",
            "5 Largest Elements: [9.  8.  7.7 6.  5.5]\n"
          ]
        }
      ]
    },
    {
      "cell_type": "code",
      "source": [
        "# (b) For the array: array = np.array([1.0, 1.2, 2.2, 2.0, 3.0, 2.0]), find\n",
        "# i. Integer elements only\n",
        "# ii. Float elements only\n",
        "\n",
        "# i. Integer elements only\n",
        "int_elements = array[array == array.astype(int)]\n",
        "print(\"Integer Elements:\", int_elements)\n",
        "\n",
        "# ii. Float elements only\n",
        "float_elements = array[array != array.astype(int)]\n",
        "print(\"Float Elements:\", float_elements)"
      ],
      "metadata": {
        "colab": {
          "base_uri": "https://localhost:8080/"
        },
        "id": "sZxWsft09IIM",
        "outputId": "419e997b-a468-4b2f-a670-6bf3feb0635a"
      },
      "execution_count": 17,
      "outputs": [
        {
          "output_type": "stream",
          "name": "stdout",
          "text": [
            "Integer Elements: [2. 9. 3. 8. 4. 6.]\n",
            "Float Elements: [5.5 1.1 7.7 0.5]\n"
          ]
        }
      ]
    },
    {
      "cell_type": "code",
      "source": [
        "# Q4:\n",
        "# (a) Write a function named img_to_array(path) that reads an image from a specified path and\n",
        "# save it as text file on local machine? (Note: use separate cases for RGB and Grey Scale\n",
        "# images)\n",
        "import cv2\n",
        "import numpy as np\n",
        "import os\n",
        "\n",
        "def img_to_array(path):\n",
        "    # Read image in color and grayscale mode\n",
        "    img_color = cv2.imread(path, cv2.IMREAD_COLOR)\n",
        "    img_gray = cv2.imread(path, cv2.IMREAD_GRAYSCALE)\n",
        "\n",
        "    if img_color is None:\n",
        "        print(\"Error: Image not found or invalid path.\")\n",
        "        return\n",
        "\n",
        "    # Determine if it's grayscale\n",
        "    if np.array_equal(cv2.cvtColor(img_color, cv2.COLOR_BGR2GRAY), img_gray):\n",
        "        # It's grayscale\n",
        "        array = img_gray\n",
        "        filename = os.path.splitext(os.path.basename(path))[0] + \"_grayscale.txt\"\n",
        "        print(\"Image is Grayscale.\")\n",
        "    else:\n",
        "        # It's color (RGB - OpenCV reads as BGR)\n",
        "        array = cv2.cvtColor(img_color, cv2.COLOR_BGR2RGB)\n",
        "        filename = os.path.splitext(os.path.basename(path))[0] + \"_rgb.txt\"\n",
        "        print(\"Image is RGB.\")\n",
        "\n",
        "    # Save array to a text file\n",
        "    np.savetxt(filename, array.reshape(-1, array.shape[-1]) if array.ndim == 3 else array, fmt='%d')\n",
        "    print(f\"Array saved to {filename}\")"
      ],
      "metadata": {
        "id": "uzn4FWJy-XLE"
      },
      "execution_count": 18,
      "outputs": []
    },
    {
      "cell_type": "code",
      "source": [],
      "metadata": {
        "id": "2pI_tadQ-goR"
      },
      "execution_count": null,
      "outputs": []
    }
  ]
}